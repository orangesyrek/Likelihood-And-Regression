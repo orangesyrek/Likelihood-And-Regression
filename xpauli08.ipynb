{
 "cells": [
  {
   "cell_type": "markdown",
   "metadata": {},
   "source": [
    "# MSP Projekt 2\n",
    "### Kryštof Paulík (xpauli08)\n",
    "## Věrohodnost\n",
    "\n",
    "[Celkem 4 body] V souboru Data_2024.xlsx (v listu Data_věrohodnost) máte zaznamenáno, jak dlouho po ukončení vzdělání pracují absolventi VUT ve „svém“ oboru (v letech). Někteří absolventi však po nějaké (zaznamenané) době přestali reagovat. U těchto absolventů je znám čas kdy přerušili kontakt (ale kdy ještě pracovali v oboru). Tato pozorování berte jako zprava cenzorovaná (jsou označena ve sloupečku „cesored“ jedničkou). Předpokládejte, že doba zaměstnání v oboru se řídí Weibullovým rozdělením pravděpodobnosti začínajícím v 0 (parametr prahu-threshold nastavte na 0)."
   ]
  },
  {
   "cell_type": "markdown",
   "metadata": {},
   "source": [
    "1) Zapište zvolenou parametrizaci Weibullova rozdělení, logaritmickou-věrohodnostní funkci pro zadaná data a její parciální derivace podle parametrů (shape, scale)."
   ]
  },
  {
   "cell_type": "markdown",
   "metadata": {},
   "source": [
    "### Hustota pravděpodobnosti a spolehlivostní funkce\n",
    "(i - necenzurované hodnoty, j - cenzurované hodnoty)\n",
    "$$\n",
    "f(x) = \\frac{k}{\\lambda} \\left( \\frac{x}{\\lambda} \\right)^{k-1} e^{-\\left( \\frac{x}{\\lambda} \\right)^k}\n",
    "$$\n",
    "\n",
    "$$\n",
    "S(x) = e^{-\\left( \\frac{x}{\\lambda} \\right)^k}\n",
    "$$\n",
    "\n",
    "### Logaritmická věrohodnostní funkce\n",
    "$$\n",
    "L(k, \\lambda) = \\prod_{\\text{i}} \\left[ \\frac{k}{\\lambda} \\left( \\frac{x_i}{\\lambda} \\right)^{k-1} e^{-\\left( \\frac{x_i}{\\lambda} \\right)^k} \\right] \n",
    "\\prod_{\\text{j}} \\left[ e^{-\\left( \\frac{x_j}{\\lambda} \\right)^k} \\right]\n",
    "$$\n",
    "\n",
    "$$\n",
    "\\ell(k, \\lambda) = \\sum_{\\text{i}} \\left[ \\ln\\left( \\frac{k}{\\lambda} \\right) + (k-1) \\ln\\left( \\frac{x_i}{\\lambda} \\right) - \\left( \\frac{x_i}{\\lambda} \\right)^k \\right]\n",
    "+ \\sum_{\\text{j}} \\left[ -\\left( \\frac{x_j}{\\lambda} \\right)^k \\right]\n",
    "$$\n",
    "\n",
    "### Parciální derivace (shape, scale)\n",
    "$$\n",
    "\\frac{\\partial \\ell}{\\partial k} = \\frac{n}{k} - n \\ln(\\lambda) + \\sum_{\\text{i}} \\ln(x_i) - \\sum_{\\text{i}} \\left( \\frac{x_i}{\\lambda} \\right)^k \\ln\\left( \\frac{x_i}{\\lambda} \\right)\n",
    "- \\sum_{\\text{j}} \\left( \\frac{x_j}{\\lambda} \\right)^k \\ln\\left( \\frac{x_j}{\\lambda} \\right)\n",
    "$$\n",
    "\n",
    "$$\n",
    "\\frac{\\partial \\ell}{\\partial \\lambda} = -\\frac{n k}{\\lambda} + k \\sum_{\\text{i}} \\left( \\frac{x_i}{\\lambda} \\right)^k \\frac{1}{\\lambda}\n",
    "+ k \\sum_{\\text{j}} \\left( \\frac{x_j}{\\lambda} \\right)^k \\frac{1}{\\lambda}\n",
    "$$"
   ]
  },
  {
   "cell_type": "code",
   "execution_count": 98,
   "metadata": {},
   "outputs": [],
   "source": [
    "import pandas as pd\n",
    "import numpy as np\n",
    "from scipy.optimize import minimize\n",
    "from scipy.stats import weibull_min, chi2\n",
    "\n",
    "import statsmodels.api as sm\n",
    "import statsmodels.formula.api as smf\n",
    "from statsmodels.stats.outliers_influence import variance_inflation_factor\n",
    "from matplotlib import pyplot as plt\n",
    "from scipy.stats import shapiro\n",
    "import scipy.stats as stats\n",
    "from statsmodels.stats.diagnostic import het_breuschpagan, linear_rainbow\n",
    "from statsmodels.stats.stattools import durbin_watson\n",
    "from scipy.stats import zscore"
   ]
  },
  {
   "cell_type": "code",
   "execution_count": 99,
   "metadata": {},
   "outputs": [],
   "source": [
    "# Načtení dat\n",
    "data = pd.read_excel('Data_2024.xlsx', sheet_name='Data_věrohodnost')\n",
    "\n",
    "censored = data['censored'].values\n",
    "work_time = data['doba práce v oboru [roky]'].values"
   ]
  },
  {
   "cell_type": "markdown",
   "metadata": {},
   "source": [
    "2) Pomocí `scipy.optimize` nalezněte maximálně věrohodné odhady parametrů weibullova rozdělení"
   ]
  },
  {
   "cell_type": "code",
   "execution_count": 100,
   "metadata": {},
   "outputs": [
    {
     "name": "stdout",
     "output_type": "stream",
     "text": [
      "Odhad tvarového parametru (shape): 6.1728\n",
      "Odhad měřítkového parametru (scale): 7.4295\n"
     ]
    }
   ],
   "source": [
    "def weibull_log_likelihood(params):\n",
    "    \n",
    "    shape, scale = params\n",
    "    if shape <= 0 or scale <= 0:\n",
    "        return np.inf\n",
    "    \n",
    "    uncensored = (1 - censored)\n",
    "    log_likelihood = (\n",
    "        uncensored * weibull_min.logpdf(work_time, shape, scale=scale) +\n",
    "        censored * weibull_min.logsf(work_time, shape, scale=scale)\n",
    "    )\n",
    "    return -np.sum(log_likelihood)\n",
    "\n",
    "initial_params = [1.0, 1.0]\n",
    "weibull_result = minimize(weibull_log_likelihood, initial_params, method='Nelder-Mead')\n",
    "\n",
    "estimated_shape, estimated_scale = weibull_result.x\n",
    "print(f'Odhad tvarového parametru (shape): {estimated_shape:.4f}')\n",
    "print(f'Odhad měřítkového parametru (scale): {estimated_scale:.4f}')"
   ]
  },
  {
   "cell_type": "markdown",
   "metadata": {},
   "source": [
    "3) Pomocí věrohodnostního poměru otestujte hypotézu, že exponenciální rozdělení je postačujícím modelem zapsaných dat (Parametr tvaru = 1)"
   ]
  },
  {
   "cell_type": "code",
   "execution_count": 101,
   "metadata": {},
   "outputs": [
    {
     "name": "stdout",
     "output_type": "stream",
     "text": [
      "Odhad měřítkového parametru (scale) pro exponenciální rozdělení: 9.0533\n",
      "Log-věrohodnost pro Weibull: -450.1339\n",
      "Log-věrohodnost pro exponenciální rozdělení: -746.3288\n",
      "Testové kritérium (lambda): 592.3898\n",
      "P-hodnota: 0.0000\n",
      "Zamítáme nulovou hypotézu: Exponenciální rozdělení není postačující model.\n"
     ]
    }
   ],
   "source": [
    "def exponential_log_likelihood(scale):\n",
    "    if scale <= 0:\n",
    "        return np.inf\n",
    "    \n",
    "    uncensored = (1 - censored)\n",
    "    log_likelihood = (\n",
    "        uncensored * weibull_min.logpdf(work_time, 1, scale=scale) +\n",
    "        censored * weibull_min.logsf(work_time, 1, scale=scale)\n",
    "    )\n",
    "    return -np.sum(log_likelihood)\n",
    "\n",
    "initial_scale = [1.0]\n",
    "exp_result = minimize(exponential_log_likelihood, initial_scale, method='Nelder-Mead')\n",
    "\n",
    "estimated_scale_exp = exp_result.x[0]\n",
    "print(f'Odhad měřítkového parametru (scale) pro exponenciální rozdělení: {estimated_scale_exp:.4f}')\n",
    "    \n",
    "weibull_log_likelihood_value = -weibull_result.fun\n",
    "exp_log_likelihood_value = -exp_result.fun\n",
    "\n",
    "lambda_stat = 2 * (weibull_log_likelihood_value - exp_log_likelihood_value)\n",
    "p_value = 1 - chi2.cdf(lambda_stat, df=1)\n",
    "\n",
    "print(f\"Log-věrohodnost pro Weibull: {weibull_log_likelihood_value:.4f}\")\n",
    "print(f\"Log-věrohodnost pro exponenciální rozdělení: {exp_log_likelihood_value:.4f}\")\n",
    "print(f\"Testové kritérium (lambda): {lambda_stat:.4f}\")\n",
    "print(f\"P-hodnota: {p_value:.4f}\")\n",
    "\n",
    "if p_value < 0.05:\n",
    "    print(\"Zamítáme nulovou hypotézu: Exponenciální rozdělení není postačující model.\")\n",
    "else:\n",
    "    print(\"Nemůžeme zamítnout nulovou hypotézu: Exponenciální rozdělení je postačující model.\")"
   ]
  },
  {
   "cell_type": "markdown",
   "metadata": {},
   "source": [
    "4) Podle výsledku ze 3) použijte výsledné rozdělení pravděpodobnosti (s maximálně věrohodnými odhady jako parametry) a nalezněte bodové odhady pro střední dobu zaměstnání v oboru a 10% percentil zaměstnání v oboru (za jakou dobu odejde do jiného odboru 10 % absolventů)."
   ]
  },
  {
   "cell_type": "code",
   "execution_count": 102,
   "metadata": {},
   "outputs": [
    {
     "name": "stdout",
     "output_type": "stream",
     "text": [
      "Střední doba zaměstnání v oboru: 6.9032 let\n",
      "10% percentil zaměstnání v oboru: 5.1598 let\n"
     ]
    }
   ],
   "source": [
    "mean_employment_duration = weibull_min.mean(estimated_shape, scale=estimated_scale)\n",
    "print(f\"Střední doba zaměstnání v oboru: {mean_employment_duration:.4f} let\")\n",
    "\n",
    "percentile_10 = weibull_min.ppf(0.10, estimated_shape, scale=estimated_scale)\n",
    "print(f\"10% percentil zaměstnání v oboru: {percentile_10:.4f} let\")\n"
   ]
  },
  {
   "cell_type": "markdown",
   "metadata": {},
   "source": [
    "## Regrese\n",
    "\n",
    "[celkem 8 bodů] Disclaimer: data (včetně „příběhu“) jsou vygenerovaná a nemusí mít dobrý obraz v realitě. Berte, proto prosím výsledky z regrese s „rezervou“. Díky. Podařilo se Vám pomocí stroje času vrátit do doby „zlatého věku“ sociálních sítí a rozhodli jste se konkurovat Facebooku a Twitteru. V souboru Data_2024.xlsx (v listu Data_regrese) máte k dispozici záznamy od více než 500 uživatelů o rychlosti odezvy (sloupec ping [ms]) během používání Vaší aplikace. Ke každému zápisu máte navíc k dispozici údaje o počtu uživatelů (sloupec ActiveUsers) v daném okamžiku, o procentu uživatelů, kteří momentálně interagují s prezentovaným obsahem (sloupec InteractingPct), o procentu uživatelů, kteří jen tupě scrollují po Vaší obdobě timeline/twitterfeedu (sloupec ScrollingPct) a o operačním systému zařízení ze kterého se uživatel připojil (OSType).\n",
    "\n",
    "##### 1) Pomocí zpětné eliminace určete vhodný regresní model. Za výchozí „plný“ model považujte plný kvadratický model (všechny interakce druhého řádu a všechny druhé mocniny, které dávají smysl).\n",
    "- Zapište rovnici Vašeho finálního modelu."
   ]
  },
  {
   "cell_type": "code",
   "execution_count": 103,
   "metadata": {},
   "outputs": [
    {
     "name": "stdout",
     "output_type": "stream",
     "text": [
      "   ActiveUsers  InteractingPct  ScrollingPct  Ping [ms]  MacOS  Windows  iOS\n",
      "0         4113          0.8283        0.1717         47    0.0      0.0  1.0\n",
      "1         7549          0.3461        0.6539         46    0.0      0.0  1.0\n",
      "2         8855          0.2178        0.7822         55    0.0      1.0  0.0\n",
      "3         8870          0.0794        0.9206         56    0.0      0.0  0.0\n",
      "4         9559          0.7282        0.2718         76    1.0      0.0  0.0\n"
     ]
    }
   ],
   "source": [
    "# Načtení dat a převedení kategorické proměnné OSType na \n",
    "data_2 = pd.read_excel(\"Data_2024.xlsx\", sheet_name=\"Data_regrese\")\n",
    "\n",
    "data_2[[\"ActiveUsers\", \"Ping [ms]\", \"InteractingPct\", \"ScrollingPct\"]] = data_2[[\"ActiveUsers\", \"Ping [ms]\", \"InteractingPct\", \"ScrollingPct\"]].apply(pd.to_numeric)\n",
    "\n",
    "# One-hot encoding - vyhodíme jeden sloupec, jelikož jej lze reprezentovat implicitně\n",
    "# (pokud všechny ostatní OS budou 0, bude to znamenat, že uživatel má právě tento chybějící systém)\n",
    "new_cols = pd.get_dummies(data_2['OSType'], drop_first=True).astype(float)\n",
    "data_2 = data_2.drop('OSType', axis=1)\n",
    "data_2 = data_2.join(new_cols)\n",
    "print(data_2.head())"
   ]
  },
  {
   "cell_type": "code",
   "execution_count": 104,
   "metadata": {},
   "outputs": [
    {
     "name": "stdout",
     "output_type": "stream",
     "text": [
      "                ActiveUsers  InteractingPct  ScrollingPct  Ping [ms]  \\\n",
      "ActiveUsers        1.000000        0.040275     -0.040275   0.693499   \n",
      "InteractingPct     0.040275        1.000000     -1.000000   0.406957   \n",
      "ScrollingPct      -0.040275       -1.000000      1.000000  -0.406957   \n",
      "Ping [ms]          0.693499        0.406957     -0.406957   1.000000   \n",
      "MacOS             -0.000136        0.086466     -0.086466   0.333107   \n",
      "Windows            0.003135       -0.016964      0.016964   0.047783   \n",
      "iOS               -0.063206       -0.062634      0.062634  -0.360491   \n",
      "\n",
      "                   MacOS   Windows       iOS  \n",
      "ActiveUsers    -0.000136  0.003135 -0.063206  \n",
      "InteractingPct  0.086466 -0.016964 -0.062634  \n",
      "ScrollingPct   -0.086466  0.016964  0.062634  \n",
      "Ping [ms]       0.333107  0.047783 -0.360491  \n",
      "MacOS           1.000000 -0.371550 -0.341322  \n",
      "Windows        -0.371550  1.000000 -0.334506  \n",
      "iOS            -0.341322 -0.334506  1.000000  \n"
     ]
    }
   ],
   "source": [
    "corr = data_2.corr()\n",
    "print(corr)"
   ]
  },
  {
   "cell_type": "markdown",
   "metadata": {},
   "source": [
    "Z kódu výše je jasná korelace mezi `InteractingPct` a `ScrollingPct` (`InteractingPct = 1 - ScrollingPct`). Jednu z těchto hodnot tedy mohu zahodit:"
   ]
  },
  {
   "cell_type": "code",
   "execution_count": 105,
   "metadata": {},
   "outputs": [],
   "source": [
    "data_2.drop(['ScrollingPct'], axis=1, inplace=True)"
   ]
  },
  {
   "cell_type": "markdown",
   "metadata": {},
   "source": [
    "Definuji výchozí regresní model - plný kvadratický model, budu se snažit vyjádřit hodnotu `Ping [ms]`\n",
    "Předtím je třeba vyřešit multikolinearitu, tu určím pomocí VIF."
   ]
  },
  {
   "cell_type": "code",
   "execution_count": 106,
   "metadata": {},
   "outputs": [
    {
     "name": "stdout",
     "output_type": "stream",
     "text": [
      "                                  VIF\n",
      "Intercept                   79.081437\n",
      "ActiveUsers                 30.108570\n",
      "InteractingPct              26.021105\n",
      "MacOS                       14.530955\n",
      "Windows                     13.726080\n",
      "iOS                         13.164975\n",
      "I(ActiveUsers ** 2)         22.499134\n",
      "I(InteractingPct ** 2)      16.060875\n",
      "ActiveUsers:InteractingPct   8.851002\n",
      "ActiveUsers:MacOS           10.454073\n",
      "ActiveUsers:Windows         10.189613\n",
      "ActiveUsers:iOS              9.061267\n",
      "InteractingPct:MacOS         7.586537\n",
      "InteractingPct:Windows       6.857633\n",
      "InteractingPct:iOS           6.028016\n"
     ]
    }
   ],
   "source": [
    "formula = (\n",
    "    # Lineární termy\n",
    "    \"Q('Ping [ms]') ~ ActiveUsers + InteractingPct + MacOS + Windows + iOS \"\n",
    "    \n",
    "    # Kvadratické termy\n",
    "    \"+ I(ActiveUsers**2) + I(InteractingPct**2) \"\n",
    "    \n",
    "    # Interakce numerických proměnných\n",
    "    \"+ ActiveUsers:InteractingPct \"\n",
    "    \n",
    "    # Interakce numerických a kategorických proměnných\n",
    "    \"+ ActiveUsers:MacOS + ActiveUsers:Windows + ActiveUsers:iOS \"\n",
    "    \"+ InteractingPct:MacOS + InteractingPct:Windows + InteractingPct:iOS\"\n",
    ")\n",
    "\n",
    "model = smf.ols(formula, data_2)\n",
    "result = model.fit()\n",
    "\n",
    "# Z democvičení\n",
    "X = pd.DataFrame(model.exog, columns=model.exog_names)\n",
    "vif = pd.Series([variance_inflation_factor(X.values, i) for i in range(X.shape[1])], index=X.columns)\n",
    "vif_df = vif.to_frame()\n",
    "vif_df.columns = ['VIF']\n",
    "\n",
    "print(vif_df)"
   ]
  },
  {
   "cell_type": "markdown",
   "metadata": {},
   "source": [
    "Hodnoty `ActiveUsers` a `InteractingPct` normalizujeme na Z-score a podíváme se, jak se změní VIF."
   ]
  },
  {
   "cell_type": "code",
   "execution_count": 107,
   "metadata": {},
   "outputs": [
    {
     "name": "stdout",
     "output_type": "stream",
     "text": [
      "                                     VIF\n",
      "Intercept                       6.781856\n",
      "ActiveUsers_z                   4.918200\n",
      "InteractingPct_z                4.737489\n",
      "MacOS                           1.654677\n",
      "Windows                         1.630480\n",
      "iOS                             1.606613\n",
      "I(ActiveUsers_z ** 2)           1.019635\n",
      "I(InteractingPct_z ** 2)        1.032984\n",
      "ActiveUsers_z:InteractingPct_z  1.041103\n",
      "ActiveUsers_z:MacOS             2.335540\n",
      "ActiveUsers_z:Windows           2.383411\n",
      "ActiveUsers_z:iOS               2.247663\n",
      "InteractingPct_z:MacOS          2.503341\n",
      "InteractingPct_z:Windows        2.092440\n",
      "InteractingPct_z:iOS            2.198356\n"
     ]
    }
   ],
   "source": [
    "data_2['ActiveUsers_z'] = (data_2['ActiveUsers'] - data_2['ActiveUsers'].mean()) / data_2['ActiveUsers'].std()\n",
    "data_2['InteractingPct_z'] = (data_2['InteractingPct'] - data_2['InteractingPct'].mean()) / data_2['InteractingPct'].std()\n",
    "\n",
    "formula = (\n",
    "    # Lineární termy\n",
    "    \"Q('Ping [ms]') ~ ActiveUsers_z + InteractingPct_z + MacOS + Windows + iOS \"\n",
    "    \n",
    "    # Kvadratické termy\n",
    "    \"+ I(ActiveUsers_z**2) + I(InteractingPct_z**2) \"\n",
    "    \n",
    "    # Interakce numerických proměnných\n",
    "    \"+ ActiveUsers_z:InteractingPct_z \"\n",
    "    \n",
    "    # Interakce numerických a kategorických proměnných\n",
    "    \"+ ActiveUsers_z:MacOS + ActiveUsers_z:Windows + ActiveUsers_z:iOS \"\n",
    "    \"+ InteractingPct_z:MacOS + InteractingPct_z:Windows + InteractingPct_z:iOS\"\n",
    ")\n",
    "\n",
    "model = smf.ols(formula, data_2)\n",
    "result = model.fit()\n",
    "\n",
    "# Z democvičení\n",
    "X = pd.DataFrame(model.exog, columns=model.exog_names)\n",
    "vif = pd.Series([variance_inflation_factor(X.values, i) for i in range(X.shape[1])], index=X.columns)\n",
    "vif_df = vif.to_frame()\n",
    "vif_df.columns = ['VIF']\n",
    "\n",
    "print(vif_df)"
   ]
  },
  {
   "cell_type": "markdown",
   "metadata": {},
   "source": [
    "Žádné VIF už nepřesahuje hodnotu 10 (toto jsem bral z democvičení). Nyní je ale nutné počítat s tím, že nová data bude také potřeba normalizovat na Z-score, aby model fungoval správně.\n",
    "\n",
    "Teď bude následovat zpětná eliminace, budeme pokračovat tak dlouho, dokud každá z hodnot nebude pod hranicí 5%."
   ]
  },
  {
   "cell_type": "code",
   "execution_count": 108,
   "metadata": {},
   "outputs": [
    {
     "name": "stdout",
     "output_type": "stream",
     "text": [
      "                            OLS Regression Results                            \n",
      "==============================================================================\n",
      "Dep. Variable:         Q('Ping [ms]')   R-squared:                       0.844\n",
      "Model:                            OLS   Adj. R-squared:                  0.839\n",
      "Method:                 Least Squares   F-statistic:                     187.9\n",
      "Date:                Sun, 15 Dec 2024   Prob (F-statistic):          5.18e-186\n",
      "Time:                        17:09:04   Log-Likelihood:                -1598.4\n",
      "No. Observations:                 502   AIC:                             3227.\n",
      "Df Residuals:                     487   BIC:                             3290.\n",
      "Df Model:                          14                                         \n",
      "Covariance Type:            nonrobust                                         \n",
      "==================================================================================================\n",
      "                                     coef    std err          t      P>|t|      [0.025      0.975]\n",
      "--------------------------------------------------------------------------------------------------\n",
      "Intercept                         51.3157      0.689     74.429      0.000      49.961      52.670\n",
      "ActiveUsers_z                     10.0459      0.588     17.093      0.000       8.891      11.201\n",
      "InteractingPct_z                   5.0422      0.577      8.741      0.000       3.909       6.176\n",
      "MacOS                              9.4931      0.763     12.445      0.000       7.994      10.992\n",
      "Windows                            3.8461      0.764      5.033      0.000       2.344       5.348\n",
      "iOS                               -5.7234      0.791     -7.232      0.000      -7.278      -4.168\n",
      "I(ActiveUsers_z ** 2)             -2.7091      0.286     -9.469      0.000      -3.271      -2.147\n",
      "I(InteractingPct_z ** 2)          -0.3264      0.306     -1.067      0.287      -0.928       0.275\n",
      "ActiveUsers_z:InteractingPct_z    -2.3286      0.273     -8.532      0.000      -2.865      -1.792\n",
      "ActiveUsers_z:MacOS                3.5618      0.785      4.536      0.000       2.019       5.104\n",
      "ActiveUsers_z:Windows             -1.9420      0.775     -2.505      0.013      -3.465      -0.419\n",
      "ActiveUsers_z:iOS                 -2.6977      0.801     -3.369      0.001      -4.271      -1.124\n",
      "InteractingPct_z:MacOS            -0.1055      0.749     -0.141      0.888      -1.577       1.366\n",
      "InteractingPct_z:Windows           0.1261      0.805      0.157      0.876      -1.456       1.708\n",
      "InteractingPct_z:iOS               0.0793      0.797      0.100      0.921      -1.486       1.645\n",
      "==============================================================================\n",
      "Omnibus:                      228.442   Durbin-Watson:                   1.933\n",
      "Prob(Omnibus):                  0.000   Jarque-Bera (JB):             3152.488\n",
      "Skew:                           1.603   Prob(JB):                         0.00\n",
      "Kurtosis:                      14.851   Cond. No.                         9.65\n",
      "==============================================================================\n",
      "\n",
      "Notes:\n",
      "[1] Standard Errors assume that the covariance matrix of the errors is correctly specified.\n"
     ]
    }
   ],
   "source": [
    "print(result.summary())"
   ]
  },
  {
   "cell_type": "markdown",
   "metadata": {},
   "source": [
    "Nejvyšší P-hodnota je `InteractingPct_z:IOS` => smažu ze vzorce a zopakuji:"
   ]
  },
  {
   "cell_type": "code",
   "execution_count": 109,
   "metadata": {},
   "outputs": [
    {
     "name": "stdout",
     "output_type": "stream",
     "text": [
      "                            OLS Regression Results                            \n",
      "==============================================================================\n",
      "Dep. Variable:         Q('Ping [ms]')   R-squared:                       0.844\n",
      "Model:                            OLS   Adj. R-squared:                  0.840\n",
      "Method:                 Least Squares   F-statistic:                     202.8\n",
      "Date:                Sun, 15 Dec 2024   Prob (F-statistic):          3.58e-187\n",
      "Time:                        17:09:04   Log-Likelihood:                -1598.4\n",
      "No. Observations:                 502   AIC:                             3225.\n",
      "Df Residuals:                     488   BIC:                             3284.\n",
      "Df Model:                          13                                         \n",
      "Covariance Type:            nonrobust                                         \n",
      "==================================================================================================\n",
      "                                     coef    std err          t      P>|t|      [0.025      0.975]\n",
      "--------------------------------------------------------------------------------------------------\n",
      "Intercept                         51.3186      0.688     74.575      0.000      49.966      52.671\n",
      "ActiveUsers_z                     10.0438      0.587     17.118      0.000       8.891      11.197\n",
      "InteractingPct_z                   5.0841      0.393     12.936      0.000       4.312       5.856\n",
      "MacOS                              9.4921      0.762     12.458      0.000       7.995      10.989\n",
      "Windows                            3.8451      0.763      5.037      0.000       2.345       5.345\n",
      "iOS                               -5.7286      0.789     -7.262      0.000      -7.279      -4.179\n",
      "I(ActiveUsers_z ** 2)             -2.7094      0.286     -9.481      0.000      -3.271      -2.148\n",
      "I(InteractingPct_z ** 2)          -0.3278      0.305     -1.074      0.284      -0.928       0.272\n",
      "ActiveUsers_z:InteractingPct_z    -2.3325      0.270     -8.644      0.000      -2.863      -1.802\n",
      "ActiveUsers_z:MacOS                3.5642      0.784      4.546      0.000       2.024       5.105\n",
      "ActiveUsers_z:Windows             -1.9401      0.774     -2.506      0.013      -3.461      -0.419\n",
      "ActiveUsers_z:iOS                 -2.6959      0.800     -3.371      0.001      -4.267      -1.124\n",
      "InteractingPct_z:MacOS            -0.1476      0.617     -0.239      0.811      -1.361       1.066\n",
      "InteractingPct_z:Windows           0.0839      0.684      0.123      0.902      -1.260       1.428\n",
      "==============================================================================\n",
      "Omnibus:                      228.545   Durbin-Watson:                   1.933\n",
      "Prob(Omnibus):                  0.000   Jarque-Bera (JB):             3156.249\n",
      "Skew:                           1.604   Prob(JB):                         0.00\n",
      "Kurtosis:                      14.858   Cond. No.                         9.53\n",
      "==============================================================================\n",
      "\n",
      "Notes:\n",
      "[1] Standard Errors assume that the covariance matrix of the errors is correctly specified.\n"
     ]
    }
   ],
   "source": [
    "formula = (\n",
    "    # Lineární termy\n",
    "    \"Q('Ping [ms]') ~ ActiveUsers_z + InteractingPct_z + MacOS + Windows + iOS \"\n",
    "    \n",
    "    # Kvadratické termy\n",
    "    \"+ I(ActiveUsers_z**2) + I(InteractingPct_z**2) \"\n",
    "    \n",
    "    # Interakce numerických proměnných\n",
    "    \"+ ActiveUsers_z:InteractingPct_z \"\n",
    "    \n",
    "    # Interakce numerických a kategorických proměnných\n",
    "    \"+ ActiveUsers_z:MacOS + ActiveUsers_z:Windows + ActiveUsers_z:iOS \"\n",
    "    \"+ InteractingPct_z:MacOS + InteractingPct_z:Windows\"\n",
    ")\n",
    "\n",
    "model = smf.ols(formula, data_2)\n",
    "result = model.fit()\n",
    "print(result.summary())"
   ]
  },
  {
   "cell_type": "markdown",
   "metadata": {},
   "source": [
    "Nejvyšší P-hodnota je `InteractingPct_z:Windows` => smažu ze vzorce a zopakuji:"
   ]
  },
  {
   "cell_type": "code",
   "execution_count": 110,
   "metadata": {},
   "outputs": [
    {
     "name": "stdout",
     "output_type": "stream",
     "text": [
      "                            OLS Regression Results                            \n",
      "==============================================================================\n",
      "Dep. Variable:         Q('Ping [ms]')   R-squared:                       0.844\n",
      "Model:                            OLS   Adj. R-squared:                  0.840\n",
      "Method:                 Least Squares   F-statistic:                     220.1\n",
      "Date:                Sun, 15 Dec 2024   Prob (F-statistic):          2.38e-188\n",
      "Time:                        17:09:04   Log-Likelihood:                -1598.4\n",
      "No. Observations:                 502   AIC:                             3223.\n",
      "Df Residuals:                     489   BIC:                             3278.\n",
      "Df Model:                          12                                         \n",
      "Covariance Type:            nonrobust                                         \n",
      "==================================================================================================\n",
      "                                     coef    std err          t      P>|t|      [0.025      0.975]\n",
      "--------------------------------------------------------------------------------------------------\n",
      "Intercept                         51.3190      0.687     74.651      0.000      49.968      52.670\n",
      "ActiveUsers_z                     10.0423      0.586     17.136      0.000       8.891      11.194\n",
      "InteractingPct_z                   5.1118      0.322     15.897      0.000       4.480       5.744\n",
      "MacOS                              9.4913      0.761     12.470      0.000       7.996      10.987\n",
      "Windows                            3.8428      0.762      5.041      0.000       2.345       5.341\n",
      "iOS                               -5.7264      0.788     -7.269      0.000      -7.274      -4.178\n",
      "I(ActiveUsers_z ** 2)             -2.7090      0.285     -9.490      0.000      -3.270      -2.148\n",
      "I(InteractingPct_z ** 2)          -0.3278      0.305     -1.075      0.283      -0.927       0.272\n",
      "ActiveUsers_z:InteractingPct_z    -2.3331      0.270     -8.657      0.000      -2.863      -1.804\n",
      "ActiveUsers_z:MacOS                3.5658      0.783      4.554      0.000       2.027       5.104\n",
      "ActiveUsers_z:Windows             -1.9330      0.771     -2.507      0.013      -3.448      -0.418\n",
      "ActiveUsers_z:iOS                 -2.6950      0.799     -3.373      0.001      -4.265      -1.125\n",
      "InteractingPct_z:MacOS            -0.1753      0.574     -0.305      0.760      -1.303       0.953\n",
      "==============================================================================\n",
      "Omnibus:                      228.538   Durbin-Watson:                   1.932\n",
      "Prob(Omnibus):                  0.000   Jarque-Bera (JB):             3155.564\n",
      "Skew:                           1.604   Prob(JB):                         0.00\n",
      "Kurtosis:                      14.856   Cond. No.                         9.52\n",
      "==============================================================================\n",
      "\n",
      "Notes:\n",
      "[1] Standard Errors assume that the covariance matrix of the errors is correctly specified.\n"
     ]
    }
   ],
   "source": [
    "formula = (\n",
    "    # Lineární termy\n",
    "    \"Q('Ping [ms]') ~ ActiveUsers_z + InteractingPct_z + MacOS + Windows + iOS \"\n",
    "    \n",
    "    # Kvadratické termy\n",
    "    \"+ I(ActiveUsers_z**2) + I(InteractingPct_z**2) \"\n",
    "    \n",
    "    # Interakce numerických proměnných\n",
    "    \"+ ActiveUsers_z:InteractingPct_z \"\n",
    "    \n",
    "    # Interakce numerických a kategorických proměnných\n",
    "    \"+ ActiveUsers_z:MacOS + ActiveUsers_z:Windows + ActiveUsers_z:iOS \"\n",
    "    \"+ InteractingPct_z:MacOS\"\n",
    ")\n",
    "\n",
    "model = smf.ols(formula, data_2)\n",
    "result = model.fit()\n",
    "print(result.summary())"
   ]
  },
  {
   "cell_type": "markdown",
   "metadata": {},
   "source": [
    "Nejvyšší P-hodnota je `InteractingPct_z:MacOS` => smažu ze vzorce a zopakuji:"
   ]
  },
  {
   "cell_type": "code",
   "execution_count": 111,
   "metadata": {},
   "outputs": [
    {
     "name": "stdout",
     "output_type": "stream",
     "text": [
      "                            OLS Regression Results                            \n",
      "==============================================================================\n",
      "Dep. Variable:         Q('Ping [ms]')   R-squared:                       0.844\n",
      "Model:                            OLS   Adj. R-squared:                  0.840\n",
      "Method:                 Least Squares   F-statistic:                     240.6\n",
      "Date:                Sun, 15 Dec 2024   Prob (F-statistic):          1.57e-189\n",
      "Time:                        17:09:04   Log-Likelihood:                -1598.5\n",
      "No. Observations:                 502   AIC:                             3221.\n",
      "Df Residuals:                     490   BIC:                             3272.\n",
      "Df Model:                          11                                         \n",
      "Covariance Type:            nonrobust                                         \n",
      "==================================================================================================\n",
      "                                     coef    std err          t      P>|t|      [0.025      0.975]\n",
      "--------------------------------------------------------------------------------------------------\n",
      "Intercept                         51.3218      0.687     74.732      0.000      49.973      52.671\n",
      "ActiveUsers_z                     10.0456      0.585     17.160      0.000       8.895      11.196\n",
      "InteractingPct_z                   5.0570      0.267     18.966      0.000       4.533       5.581\n",
      "MacOS                              9.4766      0.759     12.487      0.000       7.985      10.968\n",
      "Windows                            3.8424      0.762      5.045      0.000       2.346       5.339\n",
      "iOS                               -5.7306      0.787     -7.282      0.000      -7.277      -4.184\n",
      "I(ActiveUsers_z ** 2)             -2.7104      0.285     -9.504      0.000      -3.271      -2.150\n",
      "I(InteractingPct_z ** 2)          -0.3311      0.305     -1.087      0.278      -0.929       0.267\n",
      "ActiveUsers_z:InteractingPct_z    -2.3321      0.269     -8.662      0.000      -2.861      -1.803\n",
      "ActiveUsers_z:MacOS                3.5639      0.782      4.556      0.000       2.027       5.101\n",
      "ActiveUsers_z:Windows             -1.9309      0.770     -2.506      0.013      -3.445      -0.417\n",
      "ActiveUsers_z:iOS                 -2.6977      0.798     -3.380      0.001      -4.266      -1.129\n",
      "==============================================================================\n",
      "Omnibus:                      229.759   Durbin-Watson:                   1.933\n",
      "Prob(Omnibus):                  0.000   Jarque-Bera (JB):             3209.574\n",
      "Skew:                           1.611   Prob(JB):                         0.00\n",
      "Kurtosis:                      14.961   Cond. No.                         9.52\n",
      "==============================================================================\n",
      "\n",
      "Notes:\n",
      "[1] Standard Errors assume that the covariance matrix of the errors is correctly specified.\n"
     ]
    }
   ],
   "source": [
    "formula = (\n",
    "    # Lineární termy\n",
    "    \"Q('Ping [ms]') ~ ActiveUsers_z + InteractingPct_z + MacOS + Windows + iOS \"\n",
    "    \n",
    "    # Kvadratické termy\n",
    "    \"+ I(ActiveUsers_z**2) + I(InteractingPct_z**2) \"\n",
    "    \n",
    "    # Interakce numerických proměnných\n",
    "    \"+ ActiveUsers_z:InteractingPct_z \"\n",
    "    \n",
    "    # Interakce numerických a kategorických proměnných\n",
    "    \"+ ActiveUsers_z:MacOS + ActiveUsers_z:Windows + ActiveUsers_z:iOS \"\n",
    ")\n",
    "\n",
    "model = smf.ols(formula, data_2)\n",
    "result = model.fit()\n",
    "print(result.summary())"
   ]
  },
  {
   "cell_type": "markdown",
   "metadata": {},
   "source": [
    "Nejvyšší P-hodnota je `InteractingPct_z**2` => smažu ze vzorce a zopakuji:"
   ]
  },
  {
   "cell_type": "code",
   "execution_count": 112,
   "metadata": {},
   "outputs": [
    {
     "name": "stdout",
     "output_type": "stream",
     "text": [
      "                            OLS Regression Results                            \n",
      "==============================================================================\n",
      "Dep. Variable:         Q('Ping [ms]')   R-squared:                       0.843\n",
      "Model:                            OLS   Adj. R-squared:                  0.840\n",
      "Method:                 Least Squares   F-statistic:                     264.4\n",
      "Date:                Sun, 15 Dec 2024   Prob (F-statistic):          1.69e-190\n",
      "Time:                        17:09:04   Log-Likelihood:                -1599.1\n",
      "No. Observations:                 502   AIC:                             3220.\n",
      "Df Residuals:                     491   BIC:                             3267.\n",
      "Df Model:                          10                                         \n",
      "Covariance Type:            nonrobust                                         \n",
      "==================================================================================================\n",
      "                                     coef    std err          t      P>|t|      [0.025      0.975]\n",
      "--------------------------------------------------------------------------------------------------\n",
      "Intercept                         51.0013      0.620     82.217      0.000      49.782      52.220\n",
      "ActiveUsers_z                     10.0146      0.585     17.124      0.000       8.866      11.164\n",
      "InteractingPct_z                   5.0399      0.266     18.931      0.000       4.517       5.563\n",
      "MacOS                              9.4142      0.757     12.438      0.000       7.927      10.901\n",
      "Windows                            3.8746      0.761      5.090      0.000       2.379       5.370\n",
      "iOS                               -5.7581      0.787     -7.319      0.000      -7.304      -4.212\n",
      "I(ActiveUsers_z ** 2)             -2.7035      0.285     -9.480      0.000      -3.264      -2.143\n",
      "ActiveUsers_z:InteractingPct_z    -2.3325      0.269     -8.662      0.000      -2.862      -1.803\n",
      "ActiveUsers_z:MacOS                3.6179      0.781      4.633      0.000       2.084       5.152\n",
      "ActiveUsers_z:Windows             -1.8783      0.769     -2.442      0.015      -3.389      -0.367\n",
      "ActiveUsers_z:iOS                 -2.6316      0.796     -3.306      0.001      -4.196      -1.068\n",
      "==============================================================================\n",
      "Omnibus:                      230.750   Durbin-Watson:                   1.928\n",
      "Prob(Omnibus):                  0.000   Jarque-Bera (JB):             3263.977\n",
      "Skew:                           1.617   Prob(JB):                         0.00\n",
      "Kurtosis:                      15.066   Cond. No.                         8.06\n",
      "==============================================================================\n",
      "\n",
      "Notes:\n",
      "[1] Standard Errors assume that the covariance matrix of the errors is correctly specified.\n"
     ]
    }
   ],
   "source": [
    "formula = (\n",
    "    # Lineární termy\n",
    "    \"Q('Ping [ms]') ~ ActiveUsers_z + InteractingPct_z + MacOS + Windows + iOS \"\n",
    "    \n",
    "    # Kvadratické termy\n",
    "    \"+ I(ActiveUsers_z**2)  \"\n",
    "    \n",
    "    # Interakce numerických proměnných\n",
    "    \"+ ActiveUsers_z:InteractingPct_z \"\n",
    "    \n",
    "    # Interakce numerických a kategorických proměnných\n",
    "    \"+ ActiveUsers_z:MacOS + ActiveUsers_z:Windows + ActiveUsers_z:iOS \"\n",
    ")\n",
    "\n",
    "model = smf.ols(formula, data_2)\n",
    "result = model.fit()\n",
    "print(result.summary())"
   ]
  },
  {
   "cell_type": "markdown",
   "metadata": {},
   "source": [
    "Nyní již žádná hodnota nepřesahuje 0.05, tudíž jsme získali rovnici našeho finálního modelu:\n",
    "\n",
    "$$\n",
    "\\begin{align*}\n",
    "\\text{Ping [ms]} = &51.0013 \\\\\n",
    "&+ 10.0146 \\cdot \\text{ActiveUsers} \\\\\n",
    "&+ 5.0399 \\cdot \\text{InteractingPct} \\\\\n",
    "&+ 9.4142 \\cdot \\text{OSType\\_MacOS} \\\\\n",
    "&+ 3.8746 \\cdot \\text{OSType\\_Windows} \\\\\n",
    "&- 5.7581 \\cdot \\text{OSType\\_iOS} \\\\\n",
    "&- 2.7035 \\cdot (\\text{ActiveUsers})^2 \\\\\n",
    "&- 2.3325 \\cdot (\\text{ActiveUsers} \\cdot \\text{InteractingPct}) \\\\\n",
    "&+ 3.6179 \\cdot (\\text{ActiveUsers} \\cdot \\text{OSType\\_MacOS}) \\\\\n",
    "&- 1.8783 \\cdot (\\text{ActiveUsers} \\cdot \\text{OSType\\_Windows}) \\\\\n",
    "&- 2.6316 \\cdot (\\text{ActiveUsers} \\cdot \\text{OSType\\_iOS})\n",
    "\\end{align*}\n",
    "$$"
   ]
  },
  {
   "cell_type": "markdown",
   "metadata": {},
   "source": [
    "- Pokud (až během regresního modelování) identifikujete některé „extrémně odlehlé\n",
    "hodnoty“ můžete ty „nejodlehlejší“ hodnoty, po alespoň krátkém zdůvodnění,\n",
    "vyřadit."
   ]
  },
  {
   "cell_type": "code",
   "execution_count": 113,
   "metadata": {},
   "outputs": [
    {
     "data": {
      "image/png": "[encoded data removed]",
      "text/plain": [
       "<Figure size 640x480 with 1 Axes>"
      ]
     },
     "metadata": {},
     "output_type": "display_data"
    }
   ],
   "source": [
    "data_2['Predicted_Ping'] = result.predict(data_2)\n",
    "\n",
    "# Z democvičení\n",
    "plt.scatter(result.fittedvalues, result.resid)\n",
    "plt.xlabel('Predikované hodnoty')\n",
    "plt.ylabel('Rezidua')\n",
    "plt.title('Rezidua vs Predikované hodnoty')\n",
    "plt.show()\n",
    "\n",
    "# Filtrace dat bez odlehlých hodnot\n",
    "data_2 = data_2[abs(zscore(result.resid)) <= 3]\n",
    "\n",
    "# Přepočítání modelu\n",
    "model = smf.ols(formula, data_2)\n",
    "result = model.fit()"
   ]
  },
  {
   "cell_type": "markdown",
   "metadata": {},
   "source": [
    "Ve vykresleném grafu vidíme dvě výrazněji odlehlé hodnoty. Nemusely by být pro model problémem, ale zjistil jsem, že bez nich model vypadá lépe (viz poslední úloha). Odstraníme je pomocí scipy zscore a model přepočítáme."
   ]
  },
  {
   "cell_type": "markdown",
   "metadata": {},
   "source": [
    "- Diskutujte splnění předpokladů lineární regrese a základní regresní diagnostiky."
   ]
  },
  {
   "cell_type": "code",
   "execution_count": 114,
   "metadata": {},
   "outputs": [
    {
     "name": "stdout",
     "output_type": "stream",
     "text": [
      "Střední hodnota původních dat: 50.446\n",
      "Střední hodnota predikcí modelu: 50.446000000000026\n"
     ]
    }
   ],
   "source": [
    "print(\"Střední hodnota původních dat:\", data_2[\"Ping [ms]\"].mean())\n",
    "print(\"Střední hodnota predikcí modelu:\", result.predict(data_2).mean())"
   ]
  },
  {
   "cell_type": "markdown",
   "metadata": {},
   "source": [
    "Náhodná veličina `Ping [ms]` má střední hodnotu, která odpovídá střední hodnotě modelu - splněno."
   ]
  },
  {
   "cell_type": "code",
   "execution_count": 115,
   "metadata": {},
   "outputs": [
    {
     "name": "stdout",
     "output_type": "stream",
     "text": [
      "Cook-Weisbergův test: p-hodnota = 0.6356617661000774\n",
      "Konstatntní rozptyl.\n"
     ]
    }
   ],
   "source": [
    "_, pval, _, f_pval = het_breuschpagan(result.resid, result.model.exog)\n",
    "print(f\"Cook-Weisbergův test: p-hodnota = {pval}\")\n",
    "if pval > 0.05:\n",
    "    print(\"Konstatntní rozptyl.\")\n",
    "else:\n",
    "    print(\"NE konstantní rozptyl.\")"
   ]
  },
  {
   "cell_type": "markdown",
   "metadata": {},
   "source": [
    "Náhodná veličina `Ping [ms]` má konstantní rozptyl - splněno."
   ]
  },
  {
   "cell_type": "code",
   "execution_count": 116,
   "metadata": {},
   "outputs": [
    {
     "name": "stdout",
     "output_type": "stream",
     "text": [
      "Durbin-Watson test: d = 1.989961903427769\n",
      "Rezidua nejsou korelovaná.\n"
     ]
    }
   ],
   "source": [
    "dw = durbin_watson(result.resid)\n",
    "print(f\"Durbin-Watson test: d = {dw}\")\n",
    "if 1.5 < dw < 2.5:\n",
    "    print(\"Rezidua nejsou korelovaná.\")\n",
    "else:\n",
    "    print(\"Rezidua jsou korelovaná.\")"
   ]
  },
  {
   "cell_type": "markdown",
   "metadata": {},
   "source": [
    "Náhodná veličina `Ping [ms]` není korelovaná - splněno."
   ]
  },
  {
   "cell_type": "code",
   "execution_count": 117,
   "metadata": {},
   "outputs": [
    {
     "data": {
      "image/png": "[encoded data removed]",
      "text/plain": [
       "<Figure size 640x480 with 1 Axes>"
      ]
     },
     "metadata": {},
     "output_type": "display_data"
    }
   ],
   "source": [
    "# Normalita pomocí grafu - kód z democvičení\n",
    "plt.hist(result.resid, bins='auto', density=True, alpha=0.6, color='g')\n",
    "xmin, xmax = plt.xlim()\n",
    "x = np.linspace(xmin, xmax, 100)\n",
    "p = stats.norm.pdf(x, np.mean(result.resid), np.std(result.resid))\n",
    "plt.plot(x, p, 'k', linewidth=2)\n",
    "plt.title(\"Histogram reziduí\")\n",
    "plt.xlabel(\"Rezidua\")\n",
    "plt.ylabel(\"Hustota\")\n",
    "plt.show()"
   ]
  },
  {
   "cell_type": "markdown",
   "metadata": {},
   "source": [
    "Z grafu výše je patrné, že náhodná veličina `Ping [ms]` má normální rozdělení pravděpodobnosi - splněno."
   ]
  },
  {
   "cell_type": "markdown",
   "metadata": {},
   "source": [
    "V matici plánu by neměly existovat lineární závislosti mezi prediktory. Lineární závislost lze ověřit pomocí koeficientu VIF, který udává míru kolinearity, a který máme vypsaný výše. Hodnoty VIF jsou relativně nízké, lze tedy předpokládat, že kolinearita není významným problémem.\n",
    "\n",
    "Dalším nástrojem pro odhalení potenciální lineární závislosti je analýza determinantu korelační matice. Pokud se determinant korelační matice blíží nule, může to naznačovat vysokou kolinearitu mezi některými prediktory, což znamená, že data vykazují lineární závislost. "
   ]
  },
  {
   "cell_type": "markdown",
   "metadata": {},
   "source": [
    "##### 2) Pomocí Vašeho výsledného modelu identifikujte, pro které nastavení parametrů má odezva nejproblematičtější (největší) hodnotu (použijte model, nikoli samotná pozorování).\n",
    "\n",
    "Nejproblematičtější nastavení parametrů je následující:"
   ]
  },
  {
   "cell_type": "code",
   "execution_count": 118,
   "metadata": {},
   "outputs": [
    {
     "name": "stdout",
     "output_type": "stream",
     "text": [
      "ActiveUsers         9657.000000\n",
      "InteractingPct         0.973000\n",
      "Ping [ms]             72.000000\n",
      "MacOS                  1.000000\n",
      "Windows                0.000000\n",
      "iOS                    0.000000\n",
      "ActiveUsers_z          1.636436\n",
      "InteractingPct_z       1.636444\n",
      "Predicted_Ping        77.485765\n",
      "Name: 10, dtype: float64\n"
     ]
    }
   ],
   "source": [
    "max_ping = result.predict().argmax()\n",
    "print(data_2.iloc[max_ping])"
   ]
  },
  {
   "cell_type": "markdown",
   "metadata": {},
   "source": [
    "##### 3) Odhadněte hodnotu odezvy uživatele s Windows, při průměrném nastavení ostatních parametrů a vypočtěte konfidenční interval a predikční interval pro toto nastavení."
   ]
  },
  {
   "cell_type": "code",
   "execution_count": 119,
   "metadata": {},
   "outputs": [
    {
     "name": "stdout",
     "output_type": "stream",
     "text": [
      "Odhadnutá odezva:\n",
      "[55.0026887]\n",
      "\n",
      "Konfidenční interval:\n",
      "<53.97214495766268, 56.03323244085544>\n",
      "\n",
      "Predikční interval:\n",
      "<44.72469273780256, 65.28068466071556>\n"
     ]
    }
   ],
   "source": [
    "prediction = result.get_prediction({\n",
    "\t'ActiveUsers_z': data_2['ActiveUsers_z'].mean(),\n",
    "\t'InteractingPct_z': data_2['InteractingPct_z'].mean(),\n",
    "\t'MacOS': 0,\n",
    "\t'Windows': 1,\n",
    "\t'iOS': 0\n",
    "})\n",
    "\n",
    "mean_ping = prediction.predicted_mean\n",
    "print(\"Odhadnutá odezva:\")\n",
    "print(mean_ping)\n",
    "\n",
    "prediction = prediction.summary_frame(alpha=0.05)\n",
    "\n",
    "ci_lower = prediction.iloc[0]['mean_ci_lower']\n",
    "ci_upper = prediction.iloc[0]['mean_ci_upper']\n",
    "\n",
    "print(\"\\nKonfidenční interval:\")\n",
    "print(\"<\" + str(ci_lower) + \", \" + str(ci_upper) + \">\")\n",
    "\n",
    "pi_lower = prediction.iloc[0]['obs_ci_lower']\n",
    "pi_upper = prediction.iloc[0]['obs_ci_upper']\n",
    "\n",
    "print(\"\\nPredikční interval:\")\n",
    "print(\"<\" + str(pi_lower) + \", \" + str(pi_upper) + \">\")"
   ]
  },
  {
   "cell_type": "markdown",
   "metadata": {},
   "source": [
    "##### 4) Na základě jakýchkoli vypočtených charakteristik argumentujte, zdali je Váš model „vhodný“ pro další použití."
   ]
  },
  {
   "cell_type": "code",
   "execution_count": 120,
   "metadata": {},
   "outputs": [
    {
     "name": "stdout",
     "output_type": "stream",
     "text": [
      "0.8773933243848616\n"
     ]
    }
   ],
   "source": [
    "print(result.rsquared)"
   ]
  },
  {
   "cell_type": "markdown",
   "metadata": {},
   "source": [
    "Hodnota koeficientu determinace (R-squared) ukazuje, že model odpovídá přibližně na 88% původním datům, což je celkem slušné. Před odstraněním odlehlých hodnot to bylo okolo 84%. Příliš velká shoda by mohla (ale nemusela) být známkou toho, že model overfittuje. Regresní předpoklady jsou také splněny, jak jsme si ukázali výše. Model využívá smysluplné parametry. Je ale natrénován na normalizovaných datech (`ActiveUsers` a `InteractivePct`), je tedy potřeba tyto hodnoty u případných nových dat taktéž normalizovat.\n",
    "\n",
    "Jediný problém, co mě napadá je, že model je vytvořen z velmi malého vzorku dat. V ideálním případě by pro trénování modelu měla být využita mnohem větší datová sada, než pouze 500 vzorků."
   ]
  }
 ],
 "metadata": {
  "kernelspec": {
   "display_name": "Python 3",
   "language": "python",
   "name": "python3"
  },
  "language_info": {
   "codemirror_mode": {
    "name": "ipython",
    "version": 3
   },
   "file_extension": ".py",
   "mimetype": "text/x-python",
   "name": "python",
   "nbconvert_exporter": "python",
   "pygments_lexer": "ipython3",
   "version": "3.10.0"
  }
 },
 "nbformat": 4,
 "nbformat_minor": 2
}
